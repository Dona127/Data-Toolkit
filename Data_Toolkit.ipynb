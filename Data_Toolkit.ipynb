{
  "nbformat": 4,
  "nbformat_minor": 0,
  "metadata": {
    "colab": {
      "provenance": []
    },
    "kernelspec": {
      "name": "python3",
      "display_name": "Python 3"
    },
    "language_info": {
      "name": "python"
    }
  },
  "cells": [
    {
      "cell_type": "markdown",
      "source": [
        "# THEORITICAL"
      ],
      "metadata": {
        "id": "SenAkbWEW12W"
      }
    },
    {
      "cell_type": "markdown",
      "source": [
        "**1. What is NumPy, and why is it widely used in Python?**\n",
        "\n",
        "Ans: NumPy stands for Numerical Python. It is a powerful open-source Python library for fast numerical and scientific computing.\n",
        "\n",
        "It is widely used because it provides:\n",
        "\n",
        "* Fast operations on large arrays & matrices (much faster than Python lists).\n",
        "\n",
        "* Mathematical functions (linear algebra, statistics, Fourier transforms, etc.).\n",
        "\n",
        "* Support for scientific computing and integration with libraries like pandas, scikit-learn, TensorFlow.\n",
        "\n"
      ],
      "metadata": {
        "id": "SqDpkPgHbh-V"
      }
    },
    {
      "cell_type": "markdown",
      "source": [
        "**2. How does broadcasting work in NumPy?**\n",
        "\n",
        "Ans: Broadcasting works by \"stretching\" the smaller array across the larger one so they have compatible shapes for element-wise operations."
      ],
      "metadata": {
        "id": "R_sZZvIgbuN6"
      }
    },
    {
      "cell_type": "markdown",
      "source": [
        "**3. What is a Pandas DataFrame?**\n",
        "\n",
        "Ans: A Pandas DataFrame is one of the most important data structures in the Pandas library and is widely used for data analysis and manipulation in Python."
      ],
      "metadata": {
        "id": "0Ah4wzamb0mx"
      }
    },
    {
      "cell_type": "markdown",
      "source": [
        "**4. Explain the use of the groupby() method in Pandas.**\n",
        "\n",
        "Ans: The groupby() method in Pandas is used to split data into groups based on some criteria (like a column’s values), and then apply aggregate, transformation, or filtering operations on each group."
      ],
      "metadata": {
        "id": "lfdl1KFRb6Dt"
      }
    },
    {
      "cell_type": "markdown",
      "source": [
        "**5. Why is Seaborn preferred for statistical visualizations?**\n",
        "\n",
        "Ans: The reasons are as follows:\n",
        "* **HIGH-LEVEL INTERFACE**:\n",
        "\n",
        "   Seaborn provides simple functions to create complex statistical plots with just a single line of code. For eg. `sns.histplot()`, `sns.boxplot()`, `sns.regplot()`.\n",
        "\n",
        "* **BEAUTIFUL DEFAULT STYLES**:\n",
        "   \n",
        "   Seaborn comes with better aesthetics and themes than raw Matplotlib, making plots look professional out of the box.\n",
        "\n",
        "\n",
        "* **AUTOMATIC STATISTICAL CALCULATIONS**:\n",
        "\n",
        "   Functions like `sns.barplot()` or `sns.pointplot()` automatically compute confidence intervals, means, and error bars without extra code.\n",
        "\n",
        "* **GREAT FOR EXPLORING RELATIONSHIPS**:\n",
        "\n",
        "   `sns.pairplot()` and `sns.jointplot() `let you quickly visualize correlations between multiple variables.\n",
        "\n",
        "* **BUILT-IN SUPPORT FOR STATISTICAL PLOTS**:\n",
        "\n",
        "     Provides direct functions for histograms, KDE plots, boxplots, violin plots, pair plots, regression plots, heatmaps, etc."
      ],
      "metadata": {
        "id": "XAUJgTrTcBEl"
      }
    },
    {
      "cell_type": "markdown",
      "source": [
        "**6. What are the differences between NumPy arrays and Python lists?**\n",
        "\n",
        "Ans: The differences are as follows:\n",
        "\n",
        "* **NumPy Array**'s are `homogeneous` (ie all elements must be same type), whereas, **Python List** are `heterogeneous` (ie elements can be mixed)\n",
        "* **NumPy Array** are `very fast` but **Python List** are `slower`.\n",
        "* **NumPy Array** are efficient which uses `less memory` but **Python List** uses `higher memory` overhead.\n",
        "* **NumPy Array** supports `n-dimensional arrays` (matrices, tensors), whereas **Python List** only `nested lists`, harder to manage.\n",
        "\n",
        "* **NumPy Array** have `rich library` support (ie mean, std, dot), whereas, **Python List** have `very limited`, mostly manual coding (ie append, insert, slicing).\n",
        "\n",
        "\n"
      ],
      "metadata": {
        "id": "ean31FbpcFf4"
      }
    },
    {
      "cell_type": "markdown",
      "source": [
        "**7. What is a heatmap, and when should it be used?**\n",
        "\n",
        "Ans: A headmap is a data visualization technique that represents values in a matrix format using colors.\n",
        "\n",
        "Headmaps are especially useful when:\n",
        "1. To visualize correlations between variables (e.g., feature correlation in ML).\n",
        "\n",
        "2. To spot patterns, trends, or outliers in data.\n",
        "\n",
        "3. To compare magnitudes across categories (e.g., sales by region & month).\n",
        "\n",
        "4. To interpret large data in tabular form\n",
        "5. Visualizing Similarity Matrices"
      ],
      "metadata": {
        "id": "se7RsKiPcNNG"
      }
    },
    {
      "cell_type": "markdown",
      "source": [
        "**8. What does the term “vectorized operation” mean in NumPy?**\n",
        "\n",
        "Ans: In NumPy, a vectorized operation means performing an operation on entire arrays (vectors, matrices, tensors) at once, without writing explicit Python loops.\n"
      ],
      "metadata": {
        "id": "PZvUYDh-cQ_D"
      }
    },
    {
      "cell_type": "markdown",
      "source": [
        "**9. How does Matplotlib differ from Plotly?**\n",
        "\n",
        "Ans: Matplotlib is mainly used for creating static, highly customizable plots suitable for publications, while Plotly is designed for interactive, web-friendly visualizations that are easier to build and explore."
      ],
      "metadata": {
        "id": "wSfptHbmcWTx"
      }
    },
    {
      "cell_type": "markdown",
      "source": [
        "**10. What is the significance of hierarchical indexing in Pandas?**\n",
        "\n",
        "Ans: Hierarchical indexing (MultiIndex) in Pandas means having multiple levels of row or column labels.\n",
        "\n",
        "**Significance of hierarchical indexing in Pandas are:**\n",
        "\n",
        "* Represents higher-dimensional data in a 2D table.\n",
        "\n",
        "* Organizes data with multiple keys (e.g., Country → City).\n",
        "\n",
        "* Enables powerful grouping, aggregation, and reshaping.\n",
        "\n",
        "* Allows flexible selection using multiple index levels."
      ],
      "metadata": {
        "id": "3CEtyh2nccUD"
      }
    },
    {
      "cell_type": "markdown",
      "source": [
        "**11. What is the role of Seaborn’s pairplot() function?**\n",
        "\n",
        "Ans: Seaborn’s pairplot() function visualizes pairwise relationships between numerical variables in a dataset using scatterplots and histograms, helping in quick exploratory data analysis (EDA)."
      ],
      "metadata": {
        "id": "Q2jGV6-cch0l"
      }
    },
    {
      "cell_type": "markdown",
      "source": [
        "**12. What is the purpose of the describe() function in Pandas?**\n",
        "\n",
        "Ans: The purpose of the describe() function in Pandas is to generate summary statistics of a DataFrame or Series, such as:\n",
        "\n",
        "* Count (number of non-null values)\n",
        "\n",
        "* Mean\n",
        "\n",
        "* Standard deviation\n",
        "\n",
        "* Minimum value\n",
        "\n",
        "* Quartiles (25%, 50%, 75%)\n",
        "\n",
        "* Maximum value"
      ],
      "metadata": {
        "id": "MdLFpovScylP"
      }
    },
    {
      "cell_type": "markdown",
      "source": [
        "**13. Why is handling missing data important in Pandas?**\n",
        "\n",
        "Ans: Handling missing data in Pandas is important because:\n",
        "* It ensures accuracy of analysis (missing values can distort results).\n",
        "* Many algorithms cannot handle NaN values directly.\n",
        "* It helps maintain data consistency and reliability.\n",
        "\n",
        "* Proper handling improves model performance in machine learning."
      ],
      "metadata": {
        "id": "pPb4ww6Hc3AW"
      }
    },
    {
      "cell_type": "markdown",
      "source": [
        "**14. What are the benefits of using Plotly for data visualization?**"
      ],
      "metadata": {
        "id": "Zq5tNfUpc8x5"
      }
    },
    {
      "cell_type": "markdown",
      "source": [
        "**15.  How does NumPy handle multidimensional arrays?**\n",
        "\n",
        "Ans: NumPy handles multidimensional arrays using the `ndarray` object, whuch can store data in N dimensions (1D, 2D, 3D, ... )"
      ],
      "metadata": {
        "id": "b1KZ_75VdBEe"
      }
    },
    {
      "cell_type": "markdown",
      "source": [
        "**16. What is the role of Bokeh in data visualization?**\n",
        "\n",
        "Ans: The role of Bokeh in data visualization are as follows:\n",
        "* Bokeh is used to **create interactive and dynamic visualizations** in Python.\n",
        "\n",
        "* It **generates web-friendly outputs** like HTML and JavaScript for dashboards and websites.\n",
        "\n",
        "* It supports **real-time data streaming** and updates visualizations automatically.\n",
        "\n",
        "* **It integrates with Pandas, NumPy, and Jupyter Notebooks** for seamless data analysis.\n",
        "\n",
        "* **It offers a wide variety of plots**, including line, bar, scatter, heatmaps, and network graphs.\n",
        "\n",
        "* It is commonly used for **building interactive dashboards and web applications**.\n",
        "\n",
        "* It **handles large datasets efficiently**, making it suitable for big data visualization."
      ],
      "metadata": {
        "id": "F0vGvwT4dEyw"
      }
    },
    {
      "cell_type": "markdown",
      "source": [
        "**17. Explain the difference between apply() and map() in Pandas?**\n",
        "\n",
        "Ans: In Pandas, `apply()` is used to apply a function row-wise or column-wise on a DataFrame or Series, while `map()` is used to apply a function element-wise on a Series only."
      ],
      "metadata": {
        "id": "RPpxZ7dJdJ2P"
      }
    },
    {
      "cell_type": "markdown",
      "source": [
        "**18. What are some advanced features of NumPy?**\n",
        "\n",
        "Ans: Here are some advanced features of NumPy:\n",
        "* **Broadcasting** allows operations on arrays of different shapes without writing explicit loops.\n",
        "\n",
        "* **Vectorization** speeds up computations by performing operations on entire arrays at once.\n",
        "\n",
        "* **Advanced indexing** supports boolean indexing, fancy indexing, and slicing for flexible data selection.\n",
        "\n",
        "* **Linear algebra** operations enable matrix multiplication, determinants, eigenvalues, and more.\n",
        "\n",
        "* **Fast Fourier Transform (FFT)** helps in signal processing and frequency analysis.\n",
        "* **Memory efficiency** is achieved by storing data in contiguous blocks for faster access and computation.\n",
        "\n",
        "* **Integration with other libraries** like Pandas, Matplotlib, SciPy, and machine learning frameworks makes it highly versatile."
      ],
      "metadata": {
        "id": "kBCA1kVXdPi2"
      }
    },
    {
      "cell_type": "markdown",
      "source": [
        "**19. How does Pandas simplify time series analysis?**\n",
        "\n",
        "Ans: Pandas simplifies time series analysis by providing powerful tools to handle, manipulate and analyze data and time data efficiently.\n",
        "* **Datetime Handling:**  Converts strings or numbers into datetime objects easily using pd.to_datetime().\n",
        "\n",
        "* **Date Indexing:** Allows setting datetime columns as an index for faster and easier time-based operations.\n",
        "\n",
        "* **Resampling:** Simplifies changing data frequency (e.g., daily → monthly) using resample().\n",
        "\n",
        "* **Shifting and Lagging:**  Uses shift() to move data forward or backward for trend and lag analysis.\n",
        "\n",
        "* **Time-based Slicing:** Enables selecting data for specific dates, months, or years using datetime indexing.\n",
        "\n",
        "* **Rolling and Expanding Windows:** Uses rolling() and expanding() for moving averages and cumulative computations.\n",
        "\n",
        "* **Handling Missing Dates:** Fills or interpolates missing time periods in datasets.\n",
        "\n",
        "* **Integration with Visualization:** Works seamlessly with Matplotlib and Seaborn for plotting time series trends."
      ],
      "metadata": {
        "id": "e1K8a0LzdUca"
      }
    },
    {
      "cell_type": "markdown",
      "source": [
        "**20. What is the role of a pivot table in Pandas?**\n",
        "\n",
        "Ans: The role of a pivot table in Pandas is to summarize, reorganize, and analyze data in a DataFrame by grouping and aggregating information."
      ],
      "metadata": {
        "id": "5uCuPCsRdY_G"
      }
    },
    {
      "cell_type": "markdown",
      "source": [
        "**21. Why is NumPy’s array slicing faster than Python’s list slicing?**\n",
        "\n",
        "Ans: NumPy slicing is faster because it uses contiguous memory, views instead of copies, optimized C implementations, and vectorized processing, while Python lists are slower due to scattered memory storage and data copying."
      ],
      "metadata": {
        "id": "oQ0VMtU5ddrF"
      }
    },
    {
      "cell_type": "markdown",
      "source": [
        "**22. What are some common use cases for Seaborn?**\n",
        "\n",
        "Ans: Common use cases for Seaborn are as follows:\n",
        "* **Statistical Data Visualization** – Creates informative and attractive statistical graphs.\n",
        "\n",
        "* **Correlation Analysis** – Uses heatmaps to visualize relationships between variables.\n",
        "\n",
        "* **Distribution Analysis** – Plots data distributions using histograms, KDE plots, and rug plots.\n",
        "\n",
        "* **Categorical Data Visualization** – Compares groups using bar plots, box plots, violin plots, and strip plots.\n",
        "\n",
        "* **Regression Analysis** – Uses regplot() and lmplot() to visualize relationships and fit regression lines."
      ],
      "metadata": {
        "id": "WMg5SNoUdkOP"
      }
    },
    {
      "cell_type": "markdown",
      "source": [
        "# PRACTICAL QUESTIONS"
      ],
      "metadata": {
        "id": "ZdjRF7ZRdpIG"
      }
    },
    {
      "cell_type": "markdown",
      "source": [
        "**1. How do you create a 2D NumPy array and calculate the sum of each row?**"
      ],
      "metadata": {
        "id": "Ag5P2sgodu6i"
      }
    },
    {
      "cell_type": "code",
      "source": [
        "import numpy as np\n",
        "\n",
        "# Create a 2D NumPy array\n",
        "array_2d = np.array([[1, 2, 3], [4, 5, 6], [7, 8, 9]])\n",
        "\n",
        "print(\"Array:\")\n",
        "print(array_2d)\n",
        "\n",
        "# Calculate the sum of each row\n",
        "row_sums = np.sum(array_2d, axis=1)\n",
        "\n",
        "print(\"\\nSum of each row:\")\n",
        "print(row_sums)"
      ],
      "metadata": {
        "id": "wjn9TUJbeSuR",
        "colab": {
          "base_uri": "https://localhost:8080/"
        },
        "outputId": "0b15f9e1-a48c-483c-c0ad-3f654c867ee0"
      },
      "execution_count": null,
      "outputs": [
        {
          "output_type": "stream",
          "name": "stdout",
          "text": [
            "Array:\n",
            "[[1 2 3]\n",
            " [4 5 6]\n",
            " [7 8 9]]\n",
            "\n",
            "Sum of each row:\n",
            "[ 6 15 24]\n"
          ]
        }
      ]
    },
    {
      "cell_type": "markdown",
      "source": [
        "**2. Write a Pandas script to find the mean of a specific column in a DataFrame.**\n"
      ],
      "metadata": {
        "id": "cuaRgA3yeS3e"
      }
    },
    {
      "cell_type": "code",
      "source": [
        "\n",
        "\n",
        "import pandas as pd\n",
        "\n",
        "# Create a sample Dataframe\n",
        "data = {\n",
        "    \"Name\": [\"Rana\", \"Dona\", \"Tushar\", \"Shree\", \"Tutu\"],\n",
        "    \"Age\": [23,21,23,22,24],\n",
        "    \"Salary\": [10000,20000,36000,890000,50000]\n",
        "}\n",
        "\n",
        "df = pd.DataFrame(data)\n",
        "\n",
        "print(\"DataFrame:\")\n",
        "print(df)\n",
        "\n",
        "# Calculate the mean of the \"Salary\" column\n",
        "mean_salary = df[\"Salary\"].mean()\n",
        "print(\"\\nMean of Salary column:\", mean_salary)"
      ],
      "metadata": {
        "id": "MtoPsKsteX9W",
        "colab": {
          "base_uri": "https://localhost:8080/"
        },
        "outputId": "8412ff0b-bde6-4868-c0ae-edd8dc472c85"
      },
      "execution_count": null,
      "outputs": [
        {
          "output_type": "stream",
          "name": "stdout",
          "text": [
            "DataFrame:\n",
            "     Name  Age  Salary\n",
            "0    Rana   23   10000\n",
            "1    Dona   21   20000\n",
            "2  Tushar   23   36000\n",
            "3   Shree   22  890000\n",
            "4    Tutu   24   50000\n",
            "\n",
            "Mean of Salary column: 201200.0\n"
          ]
        }
      ]
    },
    {
      "cell_type": "markdown",
      "source": [
        "**3. Create a scatter plot using Matplotlib.**"
      ],
      "metadata": {
        "id": "j34kcOiqeYIv"
      }
    },
    {
      "cell_type": "code",
      "source": [
        "import matplotlib.pyplot as plt\n",
        "\n",
        "# Sample data\n",
        "x = [5, 7, 8, 7, 6, 8, 5, 8, 3, 6]\n",
        "y = [8, 5, 6, 7, 6, 7, 5, 4, 8, 6]\n",
        "\n",
        "# Create a scatter plot\n",
        "plt.figure(figsize=(7, 5))  # Set figure size\n",
        "plt.scatter(x, y, color='blue', marker='o', s=80, edgecolor='black')\n",
        "\n",
        "# Add labels and title\n",
        "plt.xlabel(\"X-Axis\")\n",
        "plt.ylabel(\"Y-Axis\")\n",
        "plt.title(\"Simple Scatter Plot\")\n",
        "\n",
        "# Show grid for better readability\n",
        "plt.grid(True)\n",
        "\n",
        "# Show the plot\n",
        "plt.show()"
      ],
      "metadata": {
        "id": "S7qo2_YBejau",
        "colab": {
          "base_uri": "https://localhost:8080/",
          "height": 487
        },
        "outputId": "b3d78cd9-41b5-48b4-83e9-78ff84a218f2"
      },
      "execution_count": null,
      "outputs": [
        {
          "output_type": "display_data",
          "data": {
            "text/plain": [
              "<Figure size 700x500 with 1 Axes>"
            ],
            "image/png": "[encoded data removed]"
          },
          "metadata": {}
        }
      ]
    },
    {
      "cell_type": "markdown",
      "source": [
        "**4. How do you calculate the correlation matrix using Seaborn and visualize it with a heatmap?**\n"
      ],
      "metadata": {
        "id": "cPrWhZBrekCR"
      }
    },
    {
      "cell_type": "code",
      "source": [
        "import pandas as pd\n",
        "import seaborn as sns\n",
        "import matplotlib.pyplot as plt\n",
        "\n",
        "# Create a sample DataFrame\n",
        "data = {\n",
        "    \"Age\":[25,30,25,45,23],\n",
        "    \"Salary\":[54000,200000,54000,600000,53000],\n",
        "    \"Experience\": [4,8,4,10,2]\n",
        "    }\n",
        "\n",
        "df = pd.DataFrame(data)\n",
        "\n",
        "print(\"DataFrame:\")\n",
        "print(df)\n",
        "# Calculate the correlation matrix\n",
        "corr_matrix = df.corr()\n",
        "\n",
        "print(\"\\nCorrelation Matrix:\")\n",
        "print(corr_matrix)\n",
        "\n",
        "# Set plot size\n",
        "plt.figure(figsize=(4, 8))\n",
        "\n",
        "# Create a heatmap\n",
        "sns.heatmap(corr_matrix, annot=True, cmap=\"coolwarm\", linewidths=0.5)\n",
        "\n",
        "# Add title\n",
        "plt.title(\"Correlation Matrix Heatmap\")\n",
        "\n",
        "# Show the plot\n",
        "plt.show()"
      ],
      "metadata": {
        "id": "-0gMGmXKep8G",
        "colab": {
          "base_uri": "https://localhost:8080/",
          "height": 925
        },
        "outputId": "8d872a90-57ff-420b-8e3d-bf1568bae4fb"
      },
      "execution_count": null,
      "outputs": [
        {
          "output_type": "stream",
          "name": "stdout",
          "text": [
            "DataFrame:\n",
            "   Age  Salary  Experience\n",
            "0   25   54000           4\n",
            "1   30  200000           8\n",
            "2   25   54000           4\n",
            "3   45  600000          10\n",
            "4   23   53000           2\n",
            "\n",
            "Correlation Matrix:\n",
            "                Age    Salary  Experience\n",
            "Age         1.00000  0.996000    0.907230\n",
            "Salary      0.99600  1.000000    0.886212\n",
            "Experience  0.90723  0.886212    1.000000\n"
          ]
        },
        {
          "output_type": "display_data",
          "data": {
            "text/plain": [
              "<Figure size 400x800 with 2 Axes>"
            ],
            "image/png": "[encoded data removed]"
          },
          "metadata": {}
        }
      ]
    },
    {
      "cell_type": "markdown",
      "source": [
        "**5. Generate a bar plot using Plotly.**"
      ],
      "metadata": {
        "id": "7rdNezhOeqTy"
      }
    },
    {
      "cell_type": "code",
      "source": [
        "import plotly.express as px\n",
        "import pandas as pd\n",
        "\n",
        "#Sample data\n",
        "data = {\n",
        "    \"Fruits\": [\"Apples\", \"Bananas\", \"Oranges\", \"Grapes\"],\n",
        "    \"Quantity\": [10, 15, 12, 50,]\n",
        "}\n",
        "\n",
        "# Create a DataFrame\n",
        "df = pd.DataFrame(data)\n",
        "\n",
        "# Create a bar plot\n",
        "fig = px.bar(df, x=\"Fruits\", y=\"Quantity\", title=\"Bar Plot\")\n",
        "\n",
        "# Show the plot\n",
        "fig.show()"
      ],
      "metadata": {
        "id": "srn3mb6Beu49",
        "colab": {
          "base_uri": "https://localhost:8080/",
          "height": 542
        },
        "outputId": "9b363df6-b994-4252-c3f1-70d1452fd3e7"
      },
      "execution_count": 1,
      "outputs": [
        {
          "output_type": "display_data",
          "data": {
            "text/html": [
              "<html>\n",
              "<head><meta charset=\"utf-8\" /></head>\n",
              "<body>\n",
              "    <div>            <script src=\"https://cdnjs.cloudflare.com/ajax/libs/mathjax/2.7.5/MathJax.js?config=TeX-AMS-MML_SVG\"></script><script type=\"text/javascript\">if (window.MathJax && window.MathJax.Hub && window.MathJax.Hub.Config) {window.MathJax.Hub.Config({SVG: {font: \"STIX-Web\"}});}</script>                <script type=\"text/javascript\">window.PlotlyConfig = {MathJaxConfig: 'local'};</script>\n",
              "        <script charset=\"utf-8\" src=\"https://cdn.plot.ly/plotly-2.35.2.min.js\"></script>                <div id=\"9ab4c659-7f58-4024-8b38-5be963419488\" class=\"plotly-graph-div\" style=\"height:525px; width:100%;\"></div>            <script type=\"text/javascript\">                                    window.PLOTLYENV=window.PLOTLYENV || {};                                    if (document.getElementById(\"9ab4c659-7f58-4024-8b38-5be963419488\")) {                    Plotly.newPlot(                        \"9ab4c659-7f58-4024-8b38-5be963419488\",                        [{\"alignmentgroup\":\"True\",\"hovertemplate\":\"Fruits=%{x}\\u003cbr\\u003eQuantity=%{y}\\u003cextra\\u003e\\u003c\\u002fextra\\u003e\",\"legendgroup\":\"\",\"marker\":{\"color\":\"#636efa\",\"pattern\":{\"shape\":\"\"}},\"name\":\"\",\"offsetgroup\":\"\",\"orientation\":\"v\",\"showlegend\":false,\"textposition\":\"auto\",\"x\":[\"Apples\",\"Bananas\",\"Oranges\",\"Grapes\"],\"xaxis\":\"x\",\"y\":[10,15,12,50],\"yaxis\":\"y\",\"type\":\"bar\"}],                        {\"template\":{\"data\":{\"histogram2dcontour\":[{\"type\":\"histogram2dcontour\",\"colorbar\":{\"outlinewidth\":0,\"ticks\":\"\"},\"colorscale\":[[0.0,\"#0d0887\"],[0.1111111111111111,\"#46039f\"],[0.2222222222222222,\"#7201a8\"],[0.3333333333333333,\"#9c179e\"],[0.4444444444444444,\"#bd3786\"],[0.5555555555555556,\"#d8576b\"],[0.6666666666666666,\"#ed7953\"],[0.7777777777777778,\"#fb9f3a\"],[0.8888888888888888,\"#fdca26\"],[1.0,\"#f0f921\"]]}],\"choropleth\":[{\"type\":\"choropleth\",\"colorbar\":{\"outlinewidth\":0,\"ticks\":\"\"}}],\"histogram2d\":[{\"type\":\"histogram2d\",\"colorbar\":{\"outlinewidth\":0,\"ticks\":\"\"},\"colorscale\":[[0.0,\"#0d0887\"],[0.1111111111111111,\"#46039f\"],[0.2222222222222222,\"#7201a8\"],[0.3333333333333333,\"#9c179e\"],[0.4444444444444444,\"#bd3786\"],[0.5555555555555556,\"#d8576b\"],[0.6666666666666666,\"#ed7953\"],[0.7777777777777778,\"#fb9f3a\"],[0.8888888888888888,\"#fdca26\"],[1.0,\"#f0f921\"]]}],\"heatmap\":[{\"type\":\"heatmap\",\"colorbar\":{\"outlinewidth\":0,\"ticks\":\"\"},\"colorscale\":[[0.0,\"#0d0887\"],[0.1111111111111111,\"#46039f\"],[0.2222222222222222,\"#7201a8\"],[0.3333333333333333,\"#9c179e\"],[0.4444444444444444,\"#bd3786\"],[0.5555555555555556,\"#d8576b\"],[0.6666666666666666,\"#ed7953\"],[0.7777777777777778,\"#fb9f3a\"],[0.8888888888888888,\"#fdca26\"],[1.0,\"#f0f921\"]]}],\"heatmapgl\":[{\"type\":\"heatmapgl\",\"colorbar\":{\"outlinewidth\":0,\"ticks\":\"\"},\"colorscale\":[[0.0,\"#0d0887\"],[0.1111111111111111,\"#46039f\"],[0.2222222222222222,\"#7201a8\"],[0.3333333333333333,\"#9c179e\"],[0.4444444444444444,\"#bd3786\"],[0.5555555555555556,\"#d8576b\"],[0.6666666666666666,\"#ed7953\"],[0.7777777777777778,\"#fb9f3a\"],[0.8888888888888888,\"#fdca26\"],[1.0,\"#f0f921\"]]}],\"contourcarpet\":[{\"type\":\"contourcarpet\",\"colorbar\":{\"outlinewidth\":0,\"ticks\":\"\"}}],\"contour\":[{\"type\":\"contour\",\"colorbar\":{\"outlinewidth\":0,\"ticks\":\"\"},\"colorscale\":[[0.0,\"#0d0887\"],[0.1111111111111111,\"#46039f\"],[0.2222222222222222,\"#7201a8\"],[0.3333333333333333,\"#9c179e\"],[0.4444444444444444,\"#bd3786\"],[0.5555555555555556,\"#d8576b\"],[0.6666666666666666,\"#ed7953\"],[0.7777777777777778,\"#fb9f3a\"],[0.8888888888888888,\"#fdca26\"],[1.0,\"#f0f921\"]]}],\"surface\":[{\"type\":\"surface\",\"colorbar\":{\"outlinewidth\":0,\"ticks\":\"\"},\"colorscale\":[[0.0,\"#0d0887\"],[0.1111111111111111,\"#46039f\"],[0.2222222222222222,\"#7201a8\"],[0.3333333333333333,\"#9c179e\"],[0.4444444444444444,\"#bd3786\"],[0.5555555555555556,\"#d8576b\"],[0.6666666666666666,\"#ed7953\"],[0.7777777777777778,\"#fb9f3a\"],[0.8888888888888888,\"#fdca26\"],[1.0,\"#f0f921\"]]}],\"mesh3d\":[{\"type\":\"mesh3d\",\"colorbar\":{\"outlinewidth\":0,\"ticks\":\"\"}}],\"scatter\":[{\"fillpattern\":{\"fillmode\":\"overlay\",\"size\":10,\"solidity\":0.2},\"type\":\"scatter\"}],\"parcoords\":[{\"type\":\"parcoords\",\"line\":{\"colorbar\":{\"outlinewidth\":0,\"ticks\":\"\"}}}],\"scatterpolargl\":[{\"type\":\"scatterpolargl\",\"marker\":{\"colorbar\":{\"outlinewidth\":0,\"ticks\":\"\"}}}],\"bar\":[{\"error_x\":{\"color\":\"#2a3f5f\"},\"error_y\":{\"color\":\"#2a3f5f\"},\"marker\":{\"line\":{\"color\":\"#E5ECF6\",\"width\":0.5},\"pattern\":{\"fillmode\":\"overlay\",\"size\":10,\"solidity\":0.2}},\"type\":\"bar\"}],\"scattergeo\":[{\"type\":\"scattergeo\",\"marker\":{\"colorbar\":{\"outlinewidth\":0,\"ticks\":\"\"}}}],\"scatterpolar\":[{\"type\":\"scatterpolar\",\"marker\":{\"colorbar\":{\"outlinewidth\":0,\"ticks\":\"\"}}}],\"histogram\":[{\"marker\":{\"pattern\":{\"fillmode\":\"overlay\",\"size\":10,\"solidity\":0.2}},\"type\":\"histogram\"}],\"scattergl\":[{\"type\":\"scattergl\",\"marker\":{\"colorbar\":{\"outlinewidth\":0,\"ticks\":\"\"}}}],\"scatter3d\":[{\"type\":\"scatter3d\",\"line\":{\"colorbar\":{\"outlinewidth\":0,\"ticks\":\"\"}},\"marker\":{\"colorbar\":{\"outlinewidth\":0,\"ticks\":\"\"}}}],\"scattermapbox\":[{\"type\":\"scattermapbox\",\"marker\":{\"colorbar\":{\"outlinewidth\":0,\"ticks\":\"\"}}}],\"scatterternary\":[{\"type\":\"scatterternary\",\"marker\":{\"colorbar\":{\"outlinewidth\":0,\"ticks\":\"\"}}}],\"scattercarpet\":[{\"type\":\"scattercarpet\",\"marker\":{\"colorbar\":{\"outlinewidth\":0,\"ticks\":\"\"}}}],\"carpet\":[{\"aaxis\":{\"endlinecolor\":\"#2a3f5f\",\"gridcolor\":\"white\",\"linecolor\":\"white\",\"minorgridcolor\":\"white\",\"startlinecolor\":\"#2a3f5f\"},\"baxis\":{\"endlinecolor\":\"#2a3f5f\",\"gridcolor\":\"white\",\"linecolor\":\"white\",\"minorgridcolor\":\"white\",\"startlinecolor\":\"#2a3f5f\"},\"type\":\"carpet\"}],\"table\":[{\"cells\":{\"fill\":{\"color\":\"#EBF0F8\"},\"line\":{\"color\":\"white\"}},\"header\":{\"fill\":{\"color\":\"#C8D4E3\"},\"line\":{\"color\":\"white\"}},\"type\":\"table\"}],\"barpolar\":[{\"marker\":{\"line\":{\"color\":\"#E5ECF6\",\"width\":0.5},\"pattern\":{\"fillmode\":\"overlay\",\"size\":10,\"solidity\":0.2}},\"type\":\"barpolar\"}],\"pie\":[{\"automargin\":true,\"type\":\"pie\"}]},\"layout\":{\"autotypenumbers\":\"strict\",\"colorway\":[\"#636efa\",\"#EF553B\",\"#00cc96\",\"#ab63fa\",\"#FFA15A\",\"#19d3f3\",\"#FF6692\",\"#B6E880\",\"#FF97FF\",\"#FECB52\"],\"font\":{\"color\":\"#2a3f5f\"},\"hovermode\":\"closest\",\"hoverlabel\":{\"align\":\"left\"},\"paper_bgcolor\":\"white\",\"plot_bgcolor\":\"#E5ECF6\",\"polar\":{\"bgcolor\":\"#E5ECF6\",\"angularaxis\":{\"gridcolor\":\"white\",\"linecolor\":\"white\",\"ticks\":\"\"},\"radialaxis\":{\"gridcolor\":\"white\",\"linecolor\":\"white\",\"ticks\":\"\"}},\"ternary\":{\"bgcolor\":\"#E5ECF6\",\"aaxis\":{\"gridcolor\":\"white\",\"linecolor\":\"white\",\"ticks\":\"\"},\"baxis\":{\"gridcolor\":\"white\",\"linecolor\":\"white\",\"ticks\":\"\"},\"caxis\":{\"gridcolor\":\"white\",\"linecolor\":\"white\",\"ticks\":\"\"}},\"coloraxis\":{\"colorbar\":{\"outlinewidth\":0,\"ticks\":\"\"}},\"colorscale\":{\"sequential\":[[0.0,\"#0d0887\"],[0.1111111111111111,\"#46039f\"],[0.2222222222222222,\"#7201a8\"],[0.3333333333333333,\"#9c179e\"],[0.4444444444444444,\"#bd3786\"],[0.5555555555555556,\"#d8576b\"],[0.6666666666666666,\"#ed7953\"],[0.7777777777777778,\"#fb9f3a\"],[0.8888888888888888,\"#fdca26\"],[1.0,\"#f0f921\"]],\"sequentialminus\":[[0.0,\"#0d0887\"],[0.1111111111111111,\"#46039f\"],[0.2222222222222222,\"#7201a8\"],[0.3333333333333333,\"#9c179e\"],[0.4444444444444444,\"#bd3786\"],[0.5555555555555556,\"#d8576b\"],[0.6666666666666666,\"#ed7953\"],[0.7777777777777778,\"#fb9f3a\"],[0.8888888888888888,\"#fdca26\"],[1.0,\"#f0f921\"]],\"diverging\":[[0,\"#8e0152\"],[0.1,\"#c51b7d\"],[0.2,\"#de77ae\"],[0.3,\"#f1b6da\"],[0.4,\"#fde0ef\"],[0.5,\"#f7f7f7\"],[0.6,\"#e6f5d0\"],[0.7,\"#b8e186\"],[0.8,\"#7fbc41\"],[0.9,\"#4d9221\"],[1,\"#276419\"]]},\"xaxis\":{\"gridcolor\":\"white\",\"linecolor\":\"white\",\"ticks\":\"\",\"title\":{\"standoff\":15},\"zerolinecolor\":\"white\",\"automargin\":true,\"zerolinewidth\":2},\"yaxis\":{\"gridcolor\":\"white\",\"linecolor\":\"white\",\"ticks\":\"\",\"title\":{\"standoff\":15},\"zerolinecolor\":\"white\",\"automargin\":true,\"zerolinewidth\":2},\"scene\":{\"xaxis\":{\"backgroundcolor\":\"#E5ECF6\",\"gridcolor\":\"white\",\"linecolor\":\"white\",\"showbackground\":true,\"ticks\":\"\",\"zerolinecolor\":\"white\",\"gridwidth\":2},\"yaxis\":{\"backgroundcolor\":\"#E5ECF6\",\"gridcolor\":\"white\",\"linecolor\":\"white\",\"showbackground\":true,\"ticks\":\"\",\"zerolinecolor\":\"white\",\"gridwidth\":2},\"zaxis\":{\"backgroundcolor\":\"#E5ECF6\",\"gridcolor\":\"white\",\"linecolor\":\"white\",\"showbackground\":true,\"ticks\":\"\",\"zerolinecolor\":\"white\",\"gridwidth\":2}},\"shapedefaults\":{\"line\":{\"color\":\"#2a3f5f\"}},\"annotationdefaults\":{\"arrowcolor\":\"#2a3f5f\",\"arrowhead\":0,\"arrowwidth\":1},\"geo\":{\"bgcolor\":\"white\",\"landcolor\":\"#E5ECF6\",\"subunitcolor\":\"white\",\"showland\":true,\"showlakes\":true,\"lakecolor\":\"white\"},\"title\":{\"x\":0.05},\"mapbox\":{\"style\":\"light\"}}},\"xaxis\":{\"anchor\":\"y\",\"domain\":[0.0,1.0],\"title\":{\"text\":\"Fruits\"}},\"yaxis\":{\"anchor\":\"x\",\"domain\":[0.0,1.0],\"title\":{\"text\":\"Quantity\"}},\"legend\":{\"tracegroupgap\":0},\"title\":{\"text\":\"Bar Plot\"},\"barmode\":\"relative\"},                        {\"responsive\": true}                    ).then(function(){\n",
              "                            \n",
              "var gd = document.getElementById('9ab4c659-7f58-4024-8b38-5be963419488');\n",
              "var x = new MutationObserver(function (mutations, observer) {{\n",
              "        var display = window.getComputedStyle(gd).display;\n",
              "        if (!display || display === 'none') {{\n",
              "            console.log([gd, 'removed!']);\n",
              "            Plotly.purge(gd);\n",
              "            observer.disconnect();\n",
              "        }}\n",
              "}});\n",
              "\n",
              "// Listen for the removal of the full notebook cells\n",
              "var notebookContainer = gd.closest('#notebook-container');\n",
              "if (notebookContainer) {{\n",
              "    x.observe(notebookContainer, {childList: true});\n",
              "}}\n",
              "\n",
              "// Listen for the clearing of the current output cell\n",
              "var outputEl = gd.closest('.output');\n",
              "if (outputEl) {{\n",
              "    x.observe(outputEl, {childList: true});\n",
              "}}\n",
              "\n",
              "                        })                };                            </script>        </div>\n",
              "</body>\n",
              "</html>"
            ]
          },
          "metadata": {}
        }
      ]
    },
    {
      "cell_type": "markdown",
      "source": [
        "**6. Create a DataFrame and add a new column based on an existing column.**\n"
      ],
      "metadata": {
        "id": "c8VXUh1bevDy"
      }
    },
    {
      "cell_type": "code",
      "source": [
        "import pandas as pd\n",
        "\n",
        "#Create a sample DataFrame\n",
        "data = {\n",
        "    \"Name\": [\"Tushar\", \"Dona\", \"Harsh\", \"Papai\", \"Mummat\"],\n",
        "    \"Age\": [24,23,45,25,21],\n",
        "}\n",
        "\n",
        "df = pd.DataFrame(data)\n",
        "\n",
        "# Add a new column \"Address\" based on \"Name\"\n",
        "df[\"Address\"] = df[\"Name\"].apply(lambda x: \"Delhi\" if x == \"Harsh\" else \"Mumbai\")\n",
        "\n",
        "print(\"DataFrame:\")\n",
        "print(df)"
      ],
      "metadata": {
        "id": "6-50o4ITfArC",
        "colab": {
          "base_uri": "https://localhost:8080/"
        },
        "outputId": "2e28d074-d73f-492f-8565-7dd878ced97f"
      },
      "execution_count": 4,
      "outputs": [
        {
          "output_type": "stream",
          "name": "stdout",
          "text": [
            "DataFrame:\n",
            "     Name  Age Address\n",
            "0  Tushar   24  Mumbai\n",
            "1    Dona   23  Mumbai\n",
            "2   Harsh   45   Delhi\n",
            "3   Papai   25  Mumbai\n",
            "4  Mummat   21  Mumbai\n"
          ]
        }
      ]
    },
    {
      "cell_type": "markdown",
      "source": [
        "**7. Write a program to perform element-wise multiplication of two NumPy arrays.**\n"
      ],
      "metadata": {
        "id": "KksvyT34fA9E"
      }
    },
    {
      "cell_type": "code",
      "source": [
        "import numpy as np\n",
        "\n",
        "# Create two sample NumPy arrays\n",
        "arr1 = np.array([2,4,6,8,10])\n",
        "arr2 = np.array([1,3,5,7,9])\n",
        "\n",
        "# Perform element-wise multiplication\n",
        "result = arr1 * arr2\n",
        "\n",
        "print(\"Array 1:\", arr1)\n",
        "print(\"Array 2:\", arr2)\n",
        "print(\"Element-wise Multiplication Result:\", result)"
      ],
      "metadata": {
        "id": "knaMSklcfMRp",
        "colab": {
          "base_uri": "https://localhost:8080/"
        },
        "outputId": "bfeddd0a-47d5-4abc-ff7c-3208704601a7"
      },
      "execution_count": 5,
      "outputs": [
        {
          "output_type": "stream",
          "name": "stdout",
          "text": [
            "Array 1: [ 2  4  6  8 10]\n",
            "Array 2: [1 3 5 7 9]\n",
            "Element-wise Multiplication Result: [ 2 12 30 56 90]\n"
          ]
        }
      ]
    },
    {
      "cell_type": "markdown",
      "source": [
        "**8. Create a line plot with multiple lines using Matplotlib.**"
      ],
      "metadata": {
        "id": "My0Je6KLfMcF"
      }
    },
    {
      "cell_type": "code",
      "source": [
        "import matplotlib.pyplot as plt\n",
        "\n",
        "#Sample data\n",
        "x = [1,2,3,4,5]\n",
        "y1 = [2,4,6,8,10]\n",
        "y2 = [3,6,9,12,15]\n",
        "\n",
        "# Create multiple line plots\n",
        "plt.figure(figsize=(8, 6))\n",
        "plt.plot(x, y1, label=\"Line 1\", marker=\"o\", linestyle=\"-\")\n",
        "plt.plot(x, y2, label=\"Line 2\", marker=\"x\", linestyle=\"--\")\n",
        "\n",
        "# Add title and labels\n",
        "plt.title(\"Multiple Line Plot\")\n",
        "plt.xlabel(\"X-axis\")\n",
        "plt.ylabel(\"Y-axis\")\n",
        "\n",
        "# Add legend\n",
        "plt.legend()\n",
        "\n",
        "# Show the plot\n",
        "plt.grid(True)"
      ],
      "metadata": {
        "id": "ezg8MKMnfSLW",
        "colab": {
          "base_uri": "https://localhost:8080/",
          "height": 531
        },
        "outputId": "1972b59e-9cf1-4ea0-b9bc-1dd1a97a39ba"
      },
      "execution_count": 6,
      "outputs": [
        {
          "output_type": "display_data",
          "data": {
            "text/plain": [
              "<Figure size 800x600 with 1 Axes>"
            ],
            "image/png": "[encoded data removed]"
          },
          "metadata": {}
        }
      ]
    },
    {
      "cell_type": "markdown",
      "source": [
        "**9. Generate a Pandas DataFrame and filter rows where a column value is greater than a threshold.**\n"
      ],
      "metadata": {
        "id": "tj-0qWL6fSXu"
      }
    },
    {
      "cell_type": "code",
      "source": [
        "import pandas as pd\n",
        "\n",
        "# Create a sample DataFrame\n",
        "data = {\n",
        "    \"Name\": [\"Rana\", \"Dona\", \"Tushar\", \"Shree\", \"Tutu\"],\n",
        "    \"Age\": [23,21,23,22,24],\n",
        "    \"Salary\": [5000,15000,10000,21000,24000]\n",
        "}\n",
        "\n",
        "df = pd.DataFrame(data)\n",
        "\n",
        "print(\"DataFrame:\")\n",
        "print(df)\n",
        "\n",
        "# Filter rows where \"Salary\" is greater than 15000\n",
        "filtered_df = df[df[\"Salary\"] > 15000]\n",
        "\n",
        "print(\"\\nFiltered DataFrame:\")\n",
        "print(filtered_df)"
      ],
      "metadata": {
        "id": "V5Q-jSqkfY44",
        "colab": {
          "base_uri": "https://localhost:8080/"
        },
        "outputId": "0eb72306-933d-4619-fc2e-03d252b8d26a"
      },
      "execution_count": 7,
      "outputs": [
        {
          "output_type": "stream",
          "name": "stdout",
          "text": [
            "DataFrame:\n",
            "     Name  Age  Salary\n",
            "0    Rana   23    5000\n",
            "1    Dona   21   15000\n",
            "2  Tushar   23   10000\n",
            "3   Shree   22   21000\n",
            "4    Tutu   24   24000\n",
            "\n",
            "Filtered DataFrame:\n",
            "    Name  Age  Salary\n",
            "3  Shree   22   21000\n",
            "4   Tutu   24   24000\n"
          ]
        }
      ]
    },
    {
      "cell_type": "markdown",
      "source": [
        "**10. Create a histogram using Seaborn to visualize a distribution.**\n"
      ],
      "metadata": {
        "id": "OEAlqcglfZEj"
      }
    },
    {
      "cell_type": "code",
      "source": [
        "import seaborn as sns\n",
        "import matplotlib.pyplot as plt\n",
        "import pandas as pd\n",
        "import numpy as np\n",
        "\n",
        "# Create sample data\n",
        "np.random.seed(42)\n",
        "data = pd.DataFrame({\n",
        "    \"Marks\": np.random.randint(40, 100, 100)  # 100 random marks between 40 and 100\n",
        "})\n",
        "\n",
        "# Create histogram\n",
        "plt.figure(figsize=(8, 5))\n",
        "sns.histplot(data=data, x=\"Marks\", bins=10, kde=True, color=\"skyblue\")\n",
        "\n",
        "# Add titles and labels\n",
        "plt.title(\"Distribution of Marks\", fontsize=14)\n",
        "plt.xlabel(\"Marks\")\n",
        "plt.ylabel(\"Frequency\")\n",
        "\n",
        "# Show the plot\n",
        "plt.show()\n",
        "\n"
      ],
      "metadata": {
        "id": "yY6VHVEhff8M",
        "colab": {
          "base_uri": "https://localhost:8080/",
          "height": 460
        },
        "outputId": "02f6449a-eed7-4b40-e874-acbb36cf0ed9"
      },
      "execution_count": 8,
      "outputs": [
        {
          "output_type": "display_data",
          "data": {
            "text/plain": [
              "<Figure size 800x500 with 1 Axes>"
            ],
            "image/png": "[encoded data removed]"
          },
          "metadata": {}
        }
      ]
    },
    {
      "cell_type": "markdown",
      "source": [
        "**11.  Perform matrix multiplication using NumPy.**"
      ],
      "metadata": {
        "id": "wZ4adsSTfgIX"
      }
    },
    {
      "cell_type": "code",
      "source": [
        "import numpy as np\n",
        "\n",
        "# Create two matrices\n",
        "A = np.array([[1, 2, 3],\n",
        "              [4, 5, 6]])\n",
        "\n",
        "B = np.array([[7, 8],\n",
        "              [9, 10],\n",
        "              [11, 12]])\n",
        "\n",
        "# Perform matrix multiplication\n",
        "result = np.dot(A, B)\n",
        "\n",
        "# Alternatively, you can use the @ operator (Python 3.5+)\n",
        "# result = A @ B\n",
        "\n",
        "# Display matrices and result\n",
        "print(\"Matrix A:\\n\", A)\n",
        "print(\"\\nMatrix B:\\n\", B)\n",
        "print(\"\\nMatrix Multiplication Result:\\n\", result)"
      ],
      "metadata": {
        "id": "c3-zQDwnflTW",
        "colab": {
          "base_uri": "https://localhost:8080/"
        },
        "outputId": "77a17518-a0df-4ba7-81b0-212ab20dda41"
      },
      "execution_count": 9,
      "outputs": [
        {
          "output_type": "stream",
          "name": "stdout",
          "text": [
            "Matrix A:\n",
            " [[1 2 3]\n",
            " [4 5 6]]\n",
            "\n",
            "Matrix B:\n",
            " [[ 7  8]\n",
            " [ 9 10]\n",
            " [11 12]]\n",
            "\n",
            "Matrix Multiplication Result:\n",
            " [[ 58  64]\n",
            " [139 154]]\n"
          ]
        }
      ]
    },
    {
      "cell_type": "markdown",
      "source": [
        "**12. Use Pandas to load a CSV file and display its first 5 rows.**\n"
      ],
      "metadata": {
        "id": "UxIFDAXAflen"
      }
    },
    {
      "cell_type": "code",
      "source": [
        "import pandas as pd\n",
        "import os\n",
        "\n",
        "# Create a dummy CSV file for demonstration purposes\n",
        "dummy_data = {'col1': [1, 2, 3, 4, 5],\n",
        "              'col2': ['A', 'B', 'C', 'D', 'E']}\n",
        "dummy_df = pd.DataFrame(dummy_data)\n",
        "dummy_file_path = \"sample_data.csv\"\n",
        "dummy_df.to_csv(dummy_file_path, index=False)\n",
        "\n",
        "# Load the CSV file\n",
        "df = pd.read_csv(dummy_file_path)\n",
        "\n",
        "# Display the first 5 rows\n",
        "print(\"First 5 rows of the DataFrame:\")\n",
        "print(df.head())\n",
        "\n",
        "# Clean up the dummy file (optional)\n",
        "# os.remove(dummy_file_path)"
      ],
      "metadata": {
        "id": "cP-BIt_wfrRm",
        "colab": {
          "base_uri": "https://localhost:8080/"
        },
        "outputId": "ac7abf39-0a98-4552-d04c-8b589c84d312"
      },
      "execution_count": 11,
      "outputs": [
        {
          "output_type": "stream",
          "name": "stdout",
          "text": [
            "First 5 rows of the DataFrame:\n",
            "   col1 col2\n",
            "0     1    A\n",
            "1     2    B\n",
            "2     3    C\n",
            "3     4    D\n",
            "4     5    E\n"
          ]
        }
      ]
    },
    {
      "cell_type": "markdown",
      "source": [
        "**13.  Create a 3D scatter plot using Plotly.**"
      ],
      "metadata": {
        "id": "rKoVD7Jzfrfk"
      }
    },
    {
      "cell_type": "code",
      "source": [
        "import plotly.express as px\n",
        "import pandas as pd\n",
        "import numpy as np\n",
        "\n",
        "np.random.seed(42)\n",
        "data = pd.DataFrame({\n",
        "    \"X\": np.random.randint(1, 100, 50),\n",
        "    \"Y\": np.random.randint(1, 100, 50),\n",
        "    \"Z\": np.random.randint(1, 100, 50),\n",
        "    \"Category\": np.random.choice([\"A\", \"B\", \"C\"], 50)\n",
        "})\n",
        "\n",
        "# Create 3D scatter plot\n",
        "fig = px.scatter_3d(\n",
        "    data,\n",
        "    x=\"X\",\n",
        "    y=\"Y\",\n",
        "    z=\"Z\",\n",
        "    color=\"Category\",   # Different colors for categories\n",
        "    size=\"Z\",           # Bubble size based on Z values\n",
        "    opacity=0.7,\n",
        "    title=\"3D Scatter Plot Example\"\n",
        ")\n",
        "\n",
        "# Show the interactive plot\n",
        "fig.show()"
      ],
      "metadata": {
        "id": "ZfHp0GAkfv3F",
        "colab": {
          "base_uri": "https://localhost:8080/",
          "height": 542
        },
        "outputId": "d381c94d-d121-4e4c-e74c-37c66d1ff74b"
      },
      "execution_count": 13,
      "outputs": [
        {
          "output_type": "display_data",
          "data": {
            "text/html": [
              "<html>\n",
              "<head><meta charset=\"utf-8\" /></head>\n",
              "<body>\n",
              "    <div>            <script src=\"https://cdnjs.cloudflare.com/ajax/libs/mathjax/2.7.5/MathJax.js?config=TeX-AMS-MML_SVG\"></script><script type=\"text/javascript\">if (window.MathJax && window.MathJax.Hub && window.MathJax.Hub.Config) {window.MathJax.Hub.Config({SVG: {font: \"STIX-Web\"}});}</script>                <script type=\"text/javascript\">window.PlotlyConfig = {MathJaxConfig: 'local'};</script>\n",
              "        <script charset=\"utf-8\" src=\"https://cdn.plot.ly/plotly-2.35.2.min.js\"></script>                <div id=\"45997201-1148-4e41-8814-7d74d45f6235\" class=\"plotly-graph-div\" style=\"height:525px; width:100%;\"></div>            <script type=\"text/javascript\">                                    window.PLOTLYENV=window.PLOTLYENV || {};                                    if (document.getElementById(\"45997201-1148-4e41-8814-7d74d45f6235\")) {                    Plotly.newPlot(                        \"45997201-1148-4e41-8814-7d74d45f6235\",                        [{\"hovertemplate\":\"Category=C\\u003cbr\\u003eX=%{x}\\u003cbr\\u003eY=%{y}\\u003cbr\\u003eZ=%{marker.size}\\u003cextra\\u003e\\u003c\\u002fextra\\u003e\",\"legendgroup\":\"C\",\"marker\":{\"color\":\"#636efa\",\"opacity\":0.7,\"size\":[60,41,65,89,71,88,63,81,8,33,5,41,88,99,86,47,90,14,9],\"sizemode\":\"area\",\"sizeref\":0.2475,\"symbol\":\"circle\"},\"mode\":\"markers\",\"name\":\"C\",\"scene\":\"scene\",\"showlegend\":true,\"x\":[52,93,21,83,87,3,22,2,88,2,64,60,92,80,62,55,21,73,18],\"y\":[4,89,90,53,2,44,8,35,78,50,4,2,74,14,48,62,53,24,89],\"z\":[60,41,65,89,71,88,63,81,8,33,5,41,88,99,86,47,90,14,9],\"type\":\"scatter3d\"},{\"hovertemplate\":\"Category=B\\u003cbr\\u003eX=%{x}\\u003cbr\\u003eY=%{y}\\u003cbr\\u003eZ=%{marker.size}\\u003cextra\\u003e\\u003c\\u002fextra\\u003e\",\"legendgroup\":\"B\",\"marker\":{\"color\":\"#EF553B\",\"opacity\":0.7,\"size\":[29,15,1,28,7,73,12,48,23,62,37,91,78,27],\"sizemode\":\"area\",\"sizeref\":0.2475,\"symbol\":\"circle\"},\"mode\":\"markers\",\"name\":\"B\",\"scene\":\"scene\",\"showlegend\":true,\"x\":[15,72,88,21,33,76,22,91,59,42,60,62,64,39],\"y\":[60,14,60,6,54,4,93,90,44,34,62,15,40,26],\"z\":[29,15,1,28,7,73,12,48,23,62,37,91,78,27],\"type\":\"scatter3d\"},{\"hovertemplate\":\"Category=A\\u003cbr\\u003eX=%{x}\\u003cbr\\u003eY=%{y}\\u003cbr\\u003eZ=%{marker.size}\\u003cextra\\u003e\\u003c\\u002fextra\\u003e\",\"legendgroup\":\"A\",\"marker\":{\"color\":\"#00cc96\",\"opacity\":0.7,\"size\":[45,9,88,8,11,35,35,72,34,33,44,35,65,99,3,1,5],\"sizemode\":\"area\",\"sizeref\":0.2475,\"symbol\":\"circle\"},\"mode\":\"markers\",\"name\":\"A\",\"scene\":\"scene\",\"showlegend\":true,\"x\":[61,75,75,24,53,30,38,58,89,49,15,47,62,51,3,51,7],\"y\":[9,84,92,71,47,81,36,54,63,18,95,72,78,87,85,80,82],\"z\":[45,9,88,8,11,35,35,72,34,33,44,35,65,99,3,1,5],\"type\":\"scatter3d\"}],                        {\"template\":{\"data\":{\"histogram2dcontour\":[{\"type\":\"histogram2dcontour\",\"colorbar\":{\"outlinewidth\":0,\"ticks\":\"\"},\"colorscale\":[[0.0,\"#0d0887\"],[0.1111111111111111,\"#46039f\"],[0.2222222222222222,\"#7201a8\"],[0.3333333333333333,\"#9c179e\"],[0.4444444444444444,\"#bd3786\"],[0.5555555555555556,\"#d8576b\"],[0.6666666666666666,\"#ed7953\"],[0.7777777777777778,\"#fb9f3a\"],[0.8888888888888888,\"#fdca26\"],[1.0,\"#f0f921\"]]}],\"choropleth\":[{\"type\":\"choropleth\",\"colorbar\":{\"outlinewidth\":0,\"ticks\":\"\"}}],\"histogram2d\":[{\"type\":\"histogram2d\",\"colorbar\":{\"outlinewidth\":0,\"ticks\":\"\"},\"colorscale\":[[0.0,\"#0d0887\"],[0.1111111111111111,\"#46039f\"],[0.2222222222222222,\"#7201a8\"],[0.3333333333333333,\"#9c179e\"],[0.4444444444444444,\"#bd3786\"],[0.5555555555555556,\"#d8576b\"],[0.6666666666666666,\"#ed7953\"],[0.7777777777777778,\"#fb9f3a\"],[0.8888888888888888,\"#fdca26\"],[1.0,\"#f0f921\"]]}],\"heatmap\":[{\"type\":\"heatmap\",\"colorbar\":{\"outlinewidth\":0,\"ticks\":\"\"},\"colorscale\":[[0.0,\"#0d0887\"],[0.1111111111111111,\"#46039f\"],[0.2222222222222222,\"#7201a8\"],[0.3333333333333333,\"#9c179e\"],[0.4444444444444444,\"#bd3786\"],[0.5555555555555556,\"#d8576b\"],[0.6666666666666666,\"#ed7953\"],[0.7777777777777778,\"#fb9f3a\"],[0.8888888888888888,\"#fdca26\"],[1.0,\"#f0f921\"]]}],\"heatmapgl\":[{\"type\":\"heatmapgl\",\"colorbar\":{\"outlinewidth\":0,\"ticks\":\"\"},\"colorscale\":[[0.0,\"#0d0887\"],[0.1111111111111111,\"#46039f\"],[0.2222222222222222,\"#7201a8\"],[0.3333333333333333,\"#9c179e\"],[0.4444444444444444,\"#bd3786\"],[0.5555555555555556,\"#d8576b\"],[0.6666666666666666,\"#ed7953\"],[0.7777777777777778,\"#fb9f3a\"],[0.8888888888888888,\"#fdca26\"],[1.0,\"#f0f921\"]]}],\"contourcarpet\":[{\"type\":\"contourcarpet\",\"colorbar\":{\"outlinewidth\":0,\"ticks\":\"\"}}],\"contour\":[{\"type\":\"contour\",\"colorbar\":{\"outlinewidth\":0,\"ticks\":\"\"},\"colorscale\":[[0.0,\"#0d0887\"],[0.1111111111111111,\"#46039f\"],[0.2222222222222222,\"#7201a8\"],[0.3333333333333333,\"#9c179e\"],[0.4444444444444444,\"#bd3786\"],[0.5555555555555556,\"#d8576b\"],[0.6666666666666666,\"#ed7953\"],[0.7777777777777778,\"#fb9f3a\"],[0.8888888888888888,\"#fdca26\"],[1.0,\"#f0f921\"]]}],\"surface\":[{\"type\":\"surface\",\"colorbar\":{\"outlinewidth\":0,\"ticks\":\"\"},\"colorscale\":[[0.0,\"#0d0887\"],[0.1111111111111111,\"#46039f\"],[0.2222222222222222,\"#7201a8\"],[0.3333333333333333,\"#9c179e\"],[0.4444444444444444,\"#bd3786\"],[0.5555555555555556,\"#d8576b\"],[0.6666666666666666,\"#ed7953\"],[0.7777777777777778,\"#fb9f3a\"],[0.8888888888888888,\"#fdca26\"],[1.0,\"#f0f921\"]]}],\"mesh3d\":[{\"type\":\"mesh3d\",\"colorbar\":{\"outlinewidth\":0,\"ticks\":\"\"}}],\"scatter\":[{\"fillpattern\":{\"fillmode\":\"overlay\",\"size\":10,\"solidity\":0.2},\"type\":\"scatter\"}],\"parcoords\":[{\"type\":\"parcoords\",\"line\":{\"colorbar\":{\"outlinewidth\":0,\"ticks\":\"\"}}}],\"scatterpolargl\":[{\"type\":\"scatterpolargl\",\"marker\":{\"colorbar\":{\"outlinewidth\":0,\"ticks\":\"\"}}}],\"bar\":[{\"error_x\":{\"color\":\"#2a3f5f\"},\"error_y\":{\"color\":\"#2a3f5f\"},\"marker\":{\"line\":{\"color\":\"#E5ECF6\",\"width\":0.5},\"pattern\":{\"fillmode\":\"overlay\",\"size\":10,\"solidity\":0.2}},\"type\":\"bar\"}],\"scattergeo\":[{\"type\":\"scattergeo\",\"marker\":{\"colorbar\":{\"outlinewidth\":0,\"ticks\":\"\"}}}],\"scatterpolar\":[{\"type\":\"scatterpolar\",\"marker\":{\"colorbar\":{\"outlinewidth\":0,\"ticks\":\"\"}}}],\"histogram\":[{\"marker\":{\"pattern\":{\"fillmode\":\"overlay\",\"size\":10,\"solidity\":0.2}},\"type\":\"histogram\"}],\"scattergl\":[{\"type\":\"scattergl\",\"marker\":{\"colorbar\":{\"outlinewidth\":0,\"ticks\":\"\"}}}],\"scatter3d\":[{\"type\":\"scatter3d\",\"line\":{\"colorbar\":{\"outlinewidth\":0,\"ticks\":\"\"}},\"marker\":{\"colorbar\":{\"outlinewidth\":0,\"ticks\":\"\"}}}],\"scattermapbox\":[{\"type\":\"scattermapbox\",\"marker\":{\"colorbar\":{\"outlinewidth\":0,\"ticks\":\"\"}}}],\"scatterternary\":[{\"type\":\"scatterternary\",\"marker\":{\"colorbar\":{\"outlinewidth\":0,\"ticks\":\"\"}}}],\"scattercarpet\":[{\"type\":\"scattercarpet\",\"marker\":{\"colorbar\":{\"outlinewidth\":0,\"ticks\":\"\"}}}],\"carpet\":[{\"aaxis\":{\"endlinecolor\":\"#2a3f5f\",\"gridcolor\":\"white\",\"linecolor\":\"white\",\"minorgridcolor\":\"white\",\"startlinecolor\":\"#2a3f5f\"},\"baxis\":{\"endlinecolor\":\"#2a3f5f\",\"gridcolor\":\"white\",\"linecolor\":\"white\",\"minorgridcolor\":\"white\",\"startlinecolor\":\"#2a3f5f\"},\"type\":\"carpet\"}],\"table\":[{\"cells\":{\"fill\":{\"color\":\"#EBF0F8\"},\"line\":{\"color\":\"white\"}},\"header\":{\"fill\":{\"color\":\"#C8D4E3\"},\"line\":{\"color\":\"white\"}},\"type\":\"table\"}],\"barpolar\":[{\"marker\":{\"line\":{\"color\":\"#E5ECF6\",\"width\":0.5},\"pattern\":{\"fillmode\":\"overlay\",\"size\":10,\"solidity\":0.2}},\"type\":\"barpolar\"}],\"pie\":[{\"automargin\":true,\"type\":\"pie\"}]},\"layout\":{\"autotypenumbers\":\"strict\",\"colorway\":[\"#636efa\",\"#EF553B\",\"#00cc96\",\"#ab63fa\",\"#FFA15A\",\"#19d3f3\",\"#FF6692\",\"#B6E880\",\"#FF97FF\",\"#FECB52\"],\"font\":{\"color\":\"#2a3f5f\"},\"hovermode\":\"closest\",\"hoverlabel\":{\"align\":\"left\"},\"paper_bgcolor\":\"white\",\"plot_bgcolor\":\"#E5ECF6\",\"polar\":{\"bgcolor\":\"#E5ECF6\",\"angularaxis\":{\"gridcolor\":\"white\",\"linecolor\":\"white\",\"ticks\":\"\"},\"radialaxis\":{\"gridcolor\":\"white\",\"linecolor\":\"white\",\"ticks\":\"\"}},\"ternary\":{\"bgcolor\":\"#E5ECF6\",\"aaxis\":{\"gridcolor\":\"white\",\"linecolor\":\"white\",\"ticks\":\"\"},\"baxis\":{\"gridcolor\":\"white\",\"linecolor\":\"white\",\"ticks\":\"\"},\"caxis\":{\"gridcolor\":\"white\",\"linecolor\":\"white\",\"ticks\":\"\"}},\"coloraxis\":{\"colorbar\":{\"outlinewidth\":0,\"ticks\":\"\"}},\"colorscale\":{\"sequential\":[[0.0,\"#0d0887\"],[0.1111111111111111,\"#46039f\"],[0.2222222222222222,\"#7201a8\"],[0.3333333333333333,\"#9c179e\"],[0.4444444444444444,\"#bd3786\"],[0.5555555555555556,\"#d8576b\"],[0.6666666666666666,\"#ed7953\"],[0.7777777777777778,\"#fb9f3a\"],[0.8888888888888888,\"#fdca26\"],[1.0,\"#f0f921\"]],\"sequentialminus\":[[0.0,\"#0d0887\"],[0.1111111111111111,\"#46039f\"],[0.2222222222222222,\"#7201a8\"],[0.3333333333333333,\"#9c179e\"],[0.4444444444444444,\"#bd3786\"],[0.5555555555555556,\"#d8576b\"],[0.6666666666666666,\"#ed7953\"],[0.7777777777777778,\"#fb9f3a\"],[0.8888888888888888,\"#fdca26\"],[1.0,\"#f0f921\"]],\"diverging\":[[0,\"#8e0152\"],[0.1,\"#c51b7d\"],[0.2,\"#de77ae\"],[0.3,\"#f1b6da\"],[0.4,\"#fde0ef\"],[0.5,\"#f7f7f7\"],[0.6,\"#e6f5d0\"],[0.7,\"#b8e186\"],[0.8,\"#7fbc41\"],[0.9,\"#4d9221\"],[1,\"#276419\"]]},\"xaxis\":{\"gridcolor\":\"white\",\"linecolor\":\"white\",\"ticks\":\"\",\"title\":{\"standoff\":15},\"zerolinecolor\":\"white\",\"automargin\":true,\"zerolinewidth\":2},\"yaxis\":{\"gridcolor\":\"white\",\"linecolor\":\"white\",\"ticks\":\"\",\"title\":{\"standoff\":15},\"zerolinecolor\":\"white\",\"automargin\":true,\"zerolinewidth\":2},\"scene\":{\"xaxis\":{\"backgroundcolor\":\"#E5ECF6\",\"gridcolor\":\"white\",\"linecolor\":\"white\",\"showbackground\":true,\"ticks\":\"\",\"zerolinecolor\":\"white\",\"gridwidth\":2},\"yaxis\":{\"backgroundcolor\":\"#E5ECF6\",\"gridcolor\":\"white\",\"linecolor\":\"white\",\"showbackground\":true,\"ticks\":\"\",\"zerolinecolor\":\"white\",\"gridwidth\":2},\"zaxis\":{\"backgroundcolor\":\"#E5ECF6\",\"gridcolor\":\"white\",\"linecolor\":\"white\",\"showbackground\":true,\"ticks\":\"\",\"zerolinecolor\":\"white\",\"gridwidth\":2}},\"shapedefaults\":{\"line\":{\"color\":\"#2a3f5f\"}},\"annotationdefaults\":{\"arrowcolor\":\"#2a3f5f\",\"arrowhead\":0,\"arrowwidth\":1},\"geo\":{\"bgcolor\":\"white\",\"landcolor\":\"#E5ECF6\",\"subunitcolor\":\"white\",\"showland\":true,\"showlakes\":true,\"lakecolor\":\"white\"},\"title\":{\"x\":0.05},\"mapbox\":{\"style\":\"light\"}}},\"scene\":{\"domain\":{\"x\":[0.0,1.0],\"y\":[0.0,1.0]},\"xaxis\":{\"title\":{\"text\":\"X\"}},\"yaxis\":{\"title\":{\"text\":\"Y\"}},\"zaxis\":{\"title\":{\"text\":\"Z\"}}},\"legend\":{\"title\":{\"text\":\"Category\"},\"tracegroupgap\":0,\"itemsizing\":\"constant\"},\"title\":{\"text\":\"3D Scatter Plot Example\"}},                        {\"responsive\": true}                    ).then(function(){\n",
              "                            \n",
              "var gd = document.getElementById('45997201-1148-4e41-8814-7d74d45f6235');\n",
              "var x = new MutationObserver(function (mutations, observer) {{\n",
              "        var display = window.getComputedStyle(gd).display;\n",
              "        if (!display || display === 'none') {{\n",
              "            console.log([gd, 'removed!']);\n",
              "            Plotly.purge(gd);\n",
              "            observer.disconnect();\n",
              "        }}\n",
              "}});\n",
              "\n",
              "// Listen for the removal of the full notebook cells\n",
              "var notebookContainer = gd.closest('#notebook-container');\n",
              "if (notebookContainer) {{\n",
              "    x.observe(notebookContainer, {childList: true});\n",
              "}}\n",
              "\n",
              "// Listen for the clearing of the current output cell\n",
              "var outputEl = gd.closest('.output');\n",
              "if (outputEl) {{\n",
              "    x.observe(outputEl, {childList: true});\n",
              "}}\n",
              "\n",
              "                        })                };                            </script>        </div>\n",
              "</body>\n",
              "</html>"
            ]
          },
          "metadata": {}
        }
      ]
    }
  ]
}